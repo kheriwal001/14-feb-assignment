{
 "cells": [
  {
   "cell_type": "code",
   "execution_count": null,
   "id": "14b0de73-706a-4338-954d-eb3d8e9485ab",
   "metadata": {},
   "outputs": [],
   "source": [
    "Q.1> What is multithreading in python? Why is it used? Name the module used to handle threads in python.\n",
    "Ans> Multithreading in Python refers to the ability of a program to run multiple threads \n",
    "     (i.e., independent sequences of instructions) concurrently within a single process. \n",
    "     This means that different parts of the program can execute concurrently, allowing for \n",
    "     better utilization of available resources and potentially improving program performance.\n",
    "\n",
    "     Multithreading is often used in Python programs to perform long-running or I/O-bound tasks \n",
    "     without blocking the main thread of the program, which is responsible for user interface \n",
    "     and other essential functionality. By using multiple threads, the program can continue to \n",
    "     respond to user input and perform other tasks while the long-running or I/O-bound tasks are \n",
    "     executing in the background.\n",
    "\n",
    "     The \"threading\" module is used to handle threads in Python. It provides a simple way to \n",
    "     create and manage threads within a Python program. The \"threading\" module is part of the \n",
    "     Python standard library, so it is available for use in any Python program without requiring \n",
    "     any additional installation."
   ]
  },
  {
   "cell_type": "code",
   "execution_count": null,
   "id": "75d14310-0fea-47be-a2ba-467e738151c0",
   "metadata": {},
   "outputs": [],
   "source": [
    " Q.2> Why threading module used? Write the use of the following functions:\n",
    "        activeCount()\n",
    "        currentThread()\n",
    "         enumerate()\n",
    "Ans>  The threading module in Python is used for creating, managing, and synchronizing multiple threads \n",
    "      of execution within a single process. It provides a simple and efficient way to write concurrent code in Python.\n",
    "    \n",
    "      activeCount(): This function returns the number of thread objects that are active in the current Python interpreter. \n",
    "      An active thread is a thread that has been started but has not yet finished or been joined.\n",
    "    \n",
    "      currentThread(): This function returns a reference to the current thread object that is executing the current Python code. \n",
    "      This function can be used to get information about the current thread, such as its name, ID, and other attributes\n",
    "\n",
    "      enumerate(): This function returns a list of all thread objects that are active in the current Python interpreter. \n",
    "      Each item in the list is a reference to a thread object, and the list is ordered by the order in which the threads \n",
    "      were started.\n",
    "\n"
   ]
  },
  {
   "cell_type": "code",
   "execution_count": null,
   "id": "2dd2f7fc-024b-4eee-bfee-bb673beb43c4",
   "metadata": {},
   "outputs": [],
   "source": [
    "Q.3> Explain the following functions in  multithreading\n",
    "     run()\n",
    "     start()\n",
    "     join()\n",
    "     isAlive()\n",
    "Ans> run(): This method is called when a thread is started using the start() method. It is the \n",
    "     method where the thread's activity is defined. By default, it does nothing, but you can override \n",
    "     it in your own class to define a thread's behavior.\n",
    "\n",
    "     start(): This method starts a thread's activity by calling the run() method. When you call start(), \n",
    "     a new thread is created, and the run() method of that thread is executed in parallel with the main thread. \n",
    "     Once the start() method is called, the thread is considered \"alive.\"\n",
    "\n",
    "    join(): This method blocks the calling thread until the thread whose join() method is called completes. \n",
    "    The calling thread is suspended until the called thread completes its task. This is useful when you want to wait \n",
    "    for a thread to finish its work before proceeding.\n",
    "\n",
    "    isAlive(): This method returns True if the thread is currently executing (i.e., its run() method is currently running), \n",
    "    and False otherwise. This method can be used to check whether a thread is still running or has finished its work\n"
   ]
  },
  {
   "cell_type": "code",
   "execution_count": 1,
   "id": "63573916-7db2-4f42-a406-b5183179fd7e",
   "metadata": {},
   "outputs": [
    {
     "name": "stdout",
     "output_type": "stream",
     "text": [
      "1 squared is 1\n",
      "2 squared is 4\n",
      "3 squared is 9\n",
      "4 squared is 16\n",
      "5 squared is 25\n",
      "1 cubed is 1\n",
      "2 cubed is 8\n",
      "3 cubed is 27\n",
      "4 cubed is 64\n",
      "5 cubed is 125\n",
      "Finished.\n"
     ]
    }
   ],
   "source": [
    "#Q.4>  Write a python program to create two threads. Thread one must print the list of squares and thread \n",
    "#     two must print the list of cubes\n",
    "import threading\n",
    "\n",
    "def print_squares():\n",
    "    for i in range(1, 6):\n",
    "        print(f\"{i} squared is {i*i}\")\n",
    "\n",
    "def print_cubes():\n",
    "    for i in range(1, 6):\n",
    "        print(f\"{i} cubed is {i*i*i}\")\n",
    "\n",
    "if __name__ == '__main__':\n",
    "    # create two threads\n",
    "    t1 = threading.Thread(target=print_squares)\n",
    "    t2 = threading.Thread(target=print_cubes)\n",
    "\n",
    "    # start the threads\n",
    "    t1.start()\n",
    "    t2.start()\n",
    "\n",
    "    # wait for the threads to finish\n",
    "    t1.join()\n",
    "    t2.join()\n",
    "\n",
    "    print(\"Finished.\")\n"
   ]
  },
  {
   "cell_type": "code",
   "execution_count": null,
   "id": "18ecd6aa-dabb-43b9-8104-810d68a8e966",
   "metadata": {},
   "outputs": [],
   "source": [
    "Q.5> State advantages and disadvantages of multithreading.\n",
    "Ans> Advantages of Multithreading:\n",
    "\n",
    "     Increased performance: Multithreading allows a program to perform multiple tasks simultaneously, \n",
    "     which can result in significant performance improvements, especially on systems with multiple CPU cores.\n",
    "\n",
    "     Better resource utilization: By sharing resources such as memory and I/O devices among multiple threads, \n",
    "     multithreading can reduce resource wastage and improve overall system utilization.\n",
    "\n",
    "     Responsiveness: Multithreading can improve the responsiveness of a program by allowing it to perform tasks \n",
    "     in the background while still responding to user input and other events.\n",
    "\n",
    "     Simplified program structure: Multithreading can simplify the structure of a program by allowing it to \n",
    "     be decomposed into smaller, more manageable parts.\n",
    "\n",
    "     Disadvantages of Multithreading:\n",
    "\n",
    "    Increased complexity: Multithreaded programs can be more complex to write and debug than single-threaded \n",
    "    programs, especially when dealing with shared resources such as memory and I/O devices.\n",
    "\n",
    "    Increased resource consumption: Multithreading can increase resource consumption due to the overhead of \n",
    "    creating and managing multiple threads, as well as the increased use of shared resources.\n",
    "\n",
    "    Synchronization issues: Multithreading can lead to synchronization issues when multiple threads access \n",
    "    the same shared resources concurrently. These issues can be difficult to debug and can result in \n",
    "    unpredictable program behavior.\n",
    "\n",
    "    Increased likelihood of errors: Multithreaded programs are more prone to errors such as deadlocks, \n",
    "    race conditions, and priority inversions, which can be difficult to diagnose and fix."
   ]
  },
  {
   "cell_type": "code",
   "execution_count": null,
   "id": "cf37fa72-33e5-40ff-8766-27ed58a05312",
   "metadata": {},
   "outputs": [],
   "source": [
    "Q.6> Explain deadlocks and race conditions\n",
    "Ans> Deadlocks: Deadlocks occur when two or more threads are blocked and waiting for each other to \n",
    "     release a resource that they need to proceed. In other words, each thread is waiting for a resource \n",
    "     that is currently held by another thread, and no thread can proceed until the resource is released. \n",
    "     This results in a situation where none of the threads can make progress, and the program becomes \n",
    "     stuck in an infinite loop.\n",
    "    Race conditions: Race conditions occur when the outcome of a program depends on the timing and order \n",
    "    of thread execution. In other words, the behavior of the program is dependent on which thread executes \n",
    "    first or how long each thread takes to execute."
   ]
  }
 ],
 "metadata": {
  "kernelspec": {
   "display_name": "Python 3 (ipykernel)",
   "language": "python",
   "name": "python3"
  },
  "language_info": {
   "codemirror_mode": {
    "name": "ipython",
    "version": 3
   },
   "file_extension": ".py",
   "mimetype": "text/x-python",
   "name": "python",
   "nbconvert_exporter": "python",
   "pygments_lexer": "ipython3",
   "version": "3.10.8"
  }
 },
 "nbformat": 4,
 "nbformat_minor": 5
}
